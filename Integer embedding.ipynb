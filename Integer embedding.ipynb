{
 "cells": [
  {
   "cell_type": "code",
   "execution_count": 1,
   "id": "3c15fc29",
   "metadata": {},
   "outputs": [],
   "source": [
    "import numpy as np\n",
    "mycorpus = [\"I am playing cricket\",\"He is playing football\"]"
   ]
  },
  {
   "cell_type": "code",
   "execution_count": 2,
   "id": "248e02c0",
   "metadata": {},
   "outputs": [
    {
     "data": {
      "text/plain": [
       "'He is playing football'"
      ]
     },
     "execution_count": 2,
     "metadata": {},
     "output_type": "execute_result"
    }
   ],
   "source": [
    "\"I am playing cricket\"\n",
    "\"He is playing football\""
   ]
  },
  {
   "cell_type": "code",
   "execution_count": 3,
   "id": "50ba8872",
   "metadata": {},
   "outputs": [
    {
     "name": "stdout",
     "output_type": "stream",
     "text": [
      "WARNING:tensorflow:From C:\\Users\\aansh\\anaconda3\\Lib\\site-packages\\keras\\src\\losses.py:2976: The name tf.losses.sparse_softmax_cross_entropy is deprecated. Please use tf.compat.v1.losses.sparse_softmax_cross_entropy instead.\n",
      "\n"
     ]
    }
   ],
   "source": [
    "import keras\n",
    "from keras.preprocessing.text import Tokenizer\n",
    "mytokenizer = Tokenizer()"
   ]
  },
  {
   "cell_type": "code",
   "execution_count": 4,
   "id": "000c047c",
   "metadata": {},
   "outputs": [],
   "source": [
    "mytokenizer.fit_on_texts(mycorpus)"
   ]
  },
  {
   "cell_type": "code",
   "execution_count": 5,
   "id": "6074450a",
   "metadata": {},
   "outputs": [
    {
     "data": {
      "text/plain": [
       "{'playing': 1, 'i': 2, 'am': 3, 'cricket': 4, 'he': 5, 'is': 6, 'football': 7}"
      ]
     },
     "execution_count": 5,
     "metadata": {},
     "output_type": "execute_result"
    }
   ],
   "source": [
    "mytokenizer.word_index"
   ]
  },
  {
   "cell_type": "code",
   "execution_count": 6,
   "id": "6ea3432b",
   "metadata": {},
   "outputs": [],
   "source": [
    "mysequences = mytokenizer.texts_to_sequences(mycorpus)"
   ]
  },
  {
   "cell_type": "code",
   "execution_count": 7,
   "id": "b0de23a8",
   "metadata": {},
   "outputs": [
    {
     "data": {
      "text/plain": [
       "[[2, 3, 1, 4], [5, 6, 1, 7]]"
      ]
     },
     "execution_count": 7,
     "metadata": {},
     "output_type": "execute_result"
    }
   ],
   "source": [
    "mysequences"
   ]
  },
  {
   "cell_type": "code",
   "execution_count": null,
   "id": "617601e1",
   "metadata": {},
   "outputs": [],
   "source": []
  }
 ],
 "metadata": {
  "kernelspec": {
   "display_name": "Python 3 (ipykernel)",
   "language": "python",
   "name": "python3"
  },
  "language_info": {
   "codemirror_mode": {
    "name": "ipython",
    "version": 3
   },
   "file_extension": ".py",
   "mimetype": "text/x-python",
   "name": "python",
   "nbconvert_exporter": "python",
   "pygments_lexer": "ipython3",
   "version": "3.11.4"
  }
 },
 "nbformat": 4,
 "nbformat_minor": 5
}
